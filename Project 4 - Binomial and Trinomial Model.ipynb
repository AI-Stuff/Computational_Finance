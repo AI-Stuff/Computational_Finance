{
 "cells": [
  {
   "cell_type": "markdown",
   "metadata": {},
   "source": [
    "# Binomial and Trinomial Model\n",
    "\n",
    "\n"
   ]
  },
  {
   "cell_type": "markdown",
   "metadata": {},
   "source": [
    "\n",
    "**Name:** Bowen Chen\n",
    "\n",
    "**Section:** 1\n",
    "\n",
    "**Date:** Feb 3, 2018 "
   ]
  },
  {
   "cell_type": "code",
   "execution_count": 698,
   "metadata": {},
   "outputs": [
    {
     "data": {
      "text/plain": [
       "['bmh',\n",
       " 'classic',\n",
       " 'dark_background',\n",
       " 'fast',\n",
       " 'fivethirtyeight',\n",
       " 'ggplot',\n",
       " 'grayscale',\n",
       " 'seaborn-bright',\n",
       " 'seaborn-colorblind',\n",
       " 'seaborn-dark-palette',\n",
       " 'seaborn-dark',\n",
       " 'seaborn-darkgrid',\n",
       " 'seaborn-deep',\n",
       " 'seaborn-muted',\n",
       " 'seaborn-notebook',\n",
       " 'seaborn-paper',\n",
       " 'seaborn-pastel',\n",
       " 'seaborn-poster',\n",
       " 'seaborn-talk',\n",
       " 'seaborn-ticks',\n",
       " 'seaborn-white',\n",
       " 'seaborn-whitegrid',\n",
       " 'seaborn',\n",
       " 'Solarize_Light2',\n",
       " '_classic_test']"
      ]
     },
     "execution_count": 698,
     "metadata": {},
     "output_type": "execute_result"
    }
   ],
   "source": [
    "# python set up\n",
    "import matplotlib.pyplot as plt\n",
    "from matplotlib import style\n",
    "import math as m\n",
    "import numpy as np\n",
    "import pandas_datareader.data as data\n",
    "import pandas as pd\n",
    "style.available"
   ]
  },
  {
   "cell_type": "markdown",
   "metadata": {},
   "source": [
    "## Question 1\n",
    "\n",
    "Compare the convergence rates of the four methods below by doing the following:\n",
    "Use the Binomial Method to price a 6-month European Call option with the following information: the\n",
    "risk-free interest rate is 5% per annum and the volatility is 24%/annum, the current stock price is \\\\$ 32 and\n",
    "the strike price is $30. Divide the time interval into n parts to estimate the price of this option. Use\n",
    "n = 10, 20, 40, 80, 100, 200, and 500 to estimate the price and draw them all in one graph, where the\n",
    "horizontal axis measures 𝑛, and the vertical one the price of the option.\n",
    "\n"
   ]
  },
  {
   "cell_type": "markdown",
   "metadata": {},
   "source": [
    "**Solution: **"
   ]
  },
  {
   "cell_type": "markdown",
   "metadata": {},
   "source": [
    "Define parameters"
   ]
  },
  {
   "cell_type": "code",
   "execution_count": 699,
   "metadata": {
    "collapsed": true
   },
   "outputs": [],
   "source": [
    "r = 0.05\n",
    "sd = 0.24\n",
    "S0 = 32\n",
    "K = 30\n",
    "T = 0.5\n",
    "\n",
    "n = [10, 20, 40, 80, 100, 200, 500]"
   ]
  },
  {
   "cell_type": "markdown",
   "metadata": {},
   "source": [
    "The parameters u and d are verified to satisfy the necessary condition of binomial option pricing, $d < e^{r\\Delta} < u$ "
   ]
  },
  {
   "cell_type": "markdown",
   "metadata": {},
   "source": [
    "Construct a function that prices 6-month European option with the given set of parameters "
   ]
  },
  {
   "cell_type": "code",
   "execution_count": 700,
   "metadata": {
    "collapsed": true
   },
   "outputs": [],
   "source": [
    "def stockBinomial(u, d, S0, n):\n",
    "    \n",
    "    stockT = [np.array([S0])] \n",
    "    \n",
    "    for i in range(n):\n",
    "        current_S = stockT[-1]\n",
    "        stockt = np.concatenate((current_S*u, [current_S[-1]*d]))\n",
    "        stockT.append(stockt)\n",
    "            \n",
    "    return stockT[-1]"
   ]
  },
  {
   "cell_type": "code",
   "execution_count": 701,
   "metadata": {
    "collapsed": true
   },
   "outputs": [],
   "source": [
    "def EuropeanCallOption(u, d, p, r, S0, T, K, n):\n",
    "    \n",
    "    dt = T/n\n",
    "    # build stock tree and payoff tree\n",
    "    S_binomial = stockBinomial(u, d, S0, n)\n",
    "    \n",
    "    # initialize payoffs\n",
    "    payoffs = np.maximum(S_binomial - K, 0)\n",
    "\n",
    "    # find the call option value  \n",
    "    for i in range(n):\n",
    "        payoffs = (payoffs[:-1] * p + payoffs[1:] * (1 - p))/(m.exp(r*dt))\n",
    "            \n",
    "    return payoffs[0]\n",
    "    "
   ]
  },
  {
   "cell_type": "markdown",
   "metadata": {},
   "source": [
    "**(a) Use the binomial method in which**\n",
    "\n",
    "$u = \\frac{1}{d}$, $ d =c - \\sqrt{c^2 - 1} $, $c = \\frac{1}{2}(e^{-r\\Delta} + e^{(r+ \\sigma^2)\\Delta})$, $p = \\frac{e^{r\\Delta } - d}{u - d}$"
   ]
  },
  {
   "cell_type": "code",
   "execution_count": 702,
   "metadata": {
    "collapsed": true
   },
   "outputs": [],
   "source": [
    "def get_parameters_a(r, sd, n, T):\n",
    "    \n",
    "    dt = T/n\n",
    "    c = (1/2)*(m.exp(-r*dt) + m.exp((r + sd**2)*dt))\n",
    "    d = c - m.sqrt(c**2 - 1)\n",
    "    u = 1/d\n",
    "    \n",
    "    p = (m.exp(r*dt) - d)/(u - d)\n",
    "    \n",
    "    return u, d, p, n"
   ]
  },
  {
   "cell_type": "code",
   "execution_count": 703,
   "metadata": {
    "collapsed": true
   },
   "outputs": [],
   "source": [
    "a_parameters = [get_parameters_a(r, sd, n, T) for n in n]\n",
    "a_call_values = [EuropeanCallOption(i[0], i[1], i[2], r, S0, T, K, i[3]) for i in a_parameters]"
   ]
  },
  {
   "cell_type": "markdown",
   "metadata": {},
   "source": [
    "**(b) Use the binomial method in which **\n",
    "\n",
    "$u = e^{r \\Delta} (1 + \\sqrt{e^{\\sigma^2\\Delta} - 1})$,  $d = e^{r \\Delta} (1 - \\sqrt{e^{\\sigma^2\\Delta} - 1})$,  $p = \\frac{1}{2}$"
   ]
  },
  {
   "cell_type": "code",
   "execution_count": 704,
   "metadata": {
    "collapsed": true
   },
   "outputs": [],
   "source": [
    "def get_parameters_b(r, sd, n, T):\n",
    "    \n",
    "    dt = T/n\n",
    "    \n",
    "    u = m.exp(r*dt)*(1 + m.sqrt(m.exp(sd**2 * dt) - 1))\n",
    "    d = m.exp(r*dt)*(1 - m.sqrt(m.exp(sd**2 * dt) - 1))\n",
    "    \n",
    "    p = 1/2\n",
    "    \n",
    "    return u, d, p, n"
   ]
  },
  {
   "cell_type": "code",
   "execution_count": 705,
   "metadata": {
    "collapsed": true
   },
   "outputs": [],
   "source": [
    "b_parameters = [get_parameters_b(r, sd, n, T) for n in n]\n",
    "b_call_values = [EuropeanCallOption(i[0], i[1], i[2], r, S0, T, K, i[3]) for i in b_parameters]"
   ]
  },
  {
   "cell_type": "markdown",
   "metadata": {},
   "source": [
    "**(c) Use the binomial method in which**\n",
    "\n",
    "$u = e^{(r - \\frac{1}{2}\\sigma^2)\\Delta + \\sigma\\sqrt{\\Delta}} $, $d = e^{(r - \\frac{1}{2}\\sigma^2)\\Delta - \\sigma\\sqrt{\\Delta}} $, $p = \\frac{1}{2}$ "
   ]
  },
  {
   "cell_type": "code",
   "execution_count": 706,
   "metadata": {
    "collapsed": true
   },
   "outputs": [],
   "source": [
    "def get_parameters_c(r, sd, n, T):\n",
    "    \n",
    "    dt = T/n\n",
    "    \n",
    "    u = m.exp((r - 0.5*sd**2)*dt + sd*m.sqrt(dt))\n",
    "    d = m.exp((r - 0.5*sd**2)*dt - sd*m.sqrt(dt))\n",
    "    \n",
    "    p = 1/2\n",
    "    \n",
    "    return u, d, p, n"
   ]
  },
  {
   "cell_type": "code",
   "execution_count": 707,
   "metadata": {
    "collapsed": true
   },
   "outputs": [],
   "source": [
    "c_parameters = [get_parameters_c(r, sd, n, T) for n in n]\n",
    "c_call_values = [EuropeanCallOption(i[0], i[1], i[2], r, S0, T, K, i[3]) for i in c_parameters]"
   ]
  },
  {
   "cell_type": "markdown",
   "metadata": {},
   "source": [
    "**(d) Use the binomial method in which**\n",
    "\n",
    "$u = e^{ \\sigma\\sqrt{\\Delta}}$, $d =  e^{ -\\sigma\\sqrt{\\Delta}}$, $p = \\frac{1}{2} + \\frac{1}{2}\\bigg(\\frac{(r - \\frac{1}{2}\\sigma^2)\\sqrt{\\Delta} }{\\sigma}\\bigg)$"
   ]
  },
  {
   "cell_type": "code",
   "execution_count": 708,
   "metadata": {
    "collapsed": true
   },
   "outputs": [],
   "source": [
    "def get_parameters_d(r, sd, n, T):\n",
    "    \n",
    "    dt = T/n\n",
    "    \n",
    "    u = m.exp(sd*m.sqrt(dt))\n",
    "    d = m.exp(- sd*m.sqrt(dt))\n",
    "    \n",
    "    p = 1/2 + (1/2)*((r - 0.5*sd**2)*m.sqrt(dt) / sd)\n",
    "    \n",
    "    return u, d, p, n"
   ]
  },
  {
   "cell_type": "code",
   "execution_count": 709,
   "metadata": {
    "collapsed": true
   },
   "outputs": [],
   "source": [
    "d_parameters = [get_parameters_d(r, sd, n, T) for n in n]\n",
    "d_call_values = [EuropeanCallOption(i[0], i[1], i[2], r, S0, T, K, i[3]) for i in d_parameters]"
   ]
  },
  {
   "cell_type": "markdown",
   "metadata": {},
   "source": [
    "**Plot the option values evaluated by these 4 different schemes**"
   ]
  },
  {
   "cell_type": "code",
   "execution_count": 710,
   "metadata": {
    "collapsed": true
   },
   "outputs": [],
   "source": [
    "a = zip(n, a_call_values)\n",
    "b = zip(n, b_call_values)\n",
    "c = zip(n, c_call_values)\n",
    "d = zip(n, d_call_values)"
   ]
  },
  {
   "cell_type": "code",
   "execution_count": 711,
   "metadata": {},
   "outputs": [
    {
     "data": {
      "image/png": "[encoded data removed]",
      "text/plain": [
       "<matplotlib.figure.Figure at 0x2a305887080>"
      ]
     },
     "metadata": {},
     "output_type": "display_data"
    }
   ],
   "source": [
    "plt.figure(figsize=(10,7))\n",
    "\n",
    "plt.plot(*zip(*a), label=\"Scheme a\")\n",
    "plt.plot(*zip(*b), label = \"Scheme b\")\n",
    "plt.plot(*zip(*c), label = \"Scheme c\")\n",
    "plt.plot(*zip(*d), label = \"Scheme d\")\n",
    "plt.title(\"6-month European Options Evaluated by 4 Different Schemes\")\n",
    "plt.xlabel(\"Number of steps used (N)\")\n",
    "plt.ylabel(\"Evaluated European Option Price\")\n",
    "plt.legend()\n",
    "plt.show()"
   ]
  },
  {
   "cell_type": "markdown",
   "metadata": {
    "collapsed": true
   },
   "source": [
    "## Question 2\n",
    "\n",
    "Take the current price of GOOG. Use risk-free rate of 2% per annum, and strike price that is the closest\n",
    "integer (divisible by 10) to 110% of the current price. Estimate the price of the call option that expires in\n",
    "January of next year, using the Binomial Method. GOOG does not pay dividends. To estimate the\n",
    "historical volatility, use 60 months of historical stock price data on the company. You may use\n",
    "Bloomberg or finance.yahoo.com to obtain historical prices and the current stock price of GOOG.\n"
   ]
  },
  {
   "cell_type": "markdown",
   "metadata": {},
   "source": [
    "**(a) Compare your estimated option price with the one you can get from Bloomberg or finance.yahoo.com\n",
    "and comment**"
   ]
  },
  {
   "cell_type": "markdown",
   "metadata": {
    "collapsed": true
   },
   "source": [
    "**Solution:**\n",
    "\n",
    "Download Google's 60-month historical prices until January 20, 2018 (Since the only option that matures in January 2019 is on January 20). Estimate the historical volitality and use it as the volitality in the binomial model"
   ]
  },
  {
   "cell_type": "code",
   "execution_count": 712,
   "metadata": {
    "collapsed": true
   },
   "outputs": [],
   "source": [
    "# Set the date range to be Google's last 60 months price\n",
    "start_date = '2013-01-19'\n",
    "end_date = '2018-01-19'\n",
    "\n",
    "# User pandas_reader.data.DataReader to load Google's data (remove empty prices)\n",
    "GOOGLE_prices = data.DataReader('GOOG', 'quandl', start_date, end_date).dropna(axis=1, how='all')"
   ]
  },
  {
   "cell_type": "markdown",
   "metadata": {},
   "source": [
    "Estimate historical volitality of Google's stock return of adjusted close price"
   ]
  },
  {
   "cell_type": "code",
   "execution_count": 713,
   "metadata": {
    "collapsed": true
   },
   "outputs": [],
   "source": [
    "GOOGLE_returns = GOOGLE_prices['AdjClose'] / GOOGLE_prices['AdjClose'].shift(1) - 1\n",
    "GOOGLE_sd_daily = np.std(GOOGLE_returns)"
   ]
  },
  {
   "cell_type": "markdown",
   "metadata": {},
   "source": [
    "Convert the Google's daily volatility to annual terms by multiply the daily volitality by $\\sqrt{252}$"
   ]
  },
  {
   "cell_type": "code",
   "execution_count": 714,
   "metadata": {
    "collapsed": true
   },
   "outputs": [],
   "source": [
    "GOOGLE_sd = GOOGLE_sd_daily * np.sqrt(252)"
   ]
  },
  {
   "cell_type": "markdown",
   "metadata": {},
   "source": [
    "Build binomial model to estimate the price of a 1-year European Option. The following parameters are chosen, \n",
    "\n",
    "$u = e^{(r - \\frac{1}{2}\\sigma^2)\\Delta + \\sigma\\sqrt{\\Delta}} $, $d = e^{(r - \\frac{1}{2}\\sigma^2)\\Delta - \\sigma\\sqrt{\\Delta}} $, $p = \\frac{1}{2}$ \n",
    "\n",
    "$S_0 $ will be the current price of Google (**Assume to be the price of January 19, 2018**), which is , $K = 1.1 \\times S_0 $, $T = 1$, $n = 365$"
   ]
  },
  {
   "cell_type": "code",
   "execution_count": 715,
   "metadata": {
    "collapsed": true
   },
   "outputs": [],
   "source": [
    "def EuropeanCallOption(r, sd, S0, T, K, n):\n",
    "    \n",
    "    # find u, d and p, using JR scheme\n",
    "    dt = T/n\n",
    "    u = m.exp((r - 0.5*sd**2)*dt + sd*m.sqrt(dt))\n",
    "    d = m.exp((r - 0.5*sd**2)*dt - sd*m.sqrt(dt))\n",
    "    p = (m.exp(r*dt) - d)/ (u - d)\n",
    "    \n",
    "    dt = T/n\n",
    "    # build stock tree and payoff tree\n",
    "    S_binomial = stockBinomial(u, d, S0, n)\n",
    "    \n",
    "    # initialize payoffs\n",
    "    payoffs = np.maximum(S_binomial - K, 0)\n",
    "\n",
    "    # find the call option value  \n",
    "    for i in range(n):\n",
    "        payoffs = (payoffs[:-1] * p + payoffs[1:] * (1 - p))/(m.exp(r*dt))\n",
    "            \n",
    "    return payoffs[0]"
   ]
  },
  {
   "cell_type": "markdown",
   "metadata": {},
   "source": [
    "Estimate the 1-year European call option using binomial model with the parameters above"
   ]
  },
  {
   "cell_type": "code",
   "execution_count": 716,
   "metadata": {
    "collapsed": true
   },
   "outputs": [],
   "source": [
    "# Define parameters\n",
    "r = 0.02\n",
    "T = 1\n",
    "n = 365\n",
    "S0 =  round(GOOGLE_prices['AdjClose']['2018-01-19'], 1)[0]\n",
    "K = (1.1*S0)// 10 * 10"
   ]
  },
  {
   "cell_type": "code",
   "execution_count": 717,
   "metadata": {},
   "outputs": [
    {
     "name": "stdout",
     "output_type": "stream",
     "text": [
      "The estimated price of Google's 1-year call option: $ 63.7886575123\n"
     ]
    }
   ],
   "source": [
    "call_1yr = EuropeanCallOption(r, GOOGLE_sd, S0, T, K, n)\n",
    "print(\"The estimated price of Google's 1-year call option: $\", call_1yr)"
   ]
  },
  {
   "cell_type": "markdown",
   "metadata": {},
   "source": [
    "The market price of the Google's 1-year European Option (maturing on January 20, 2019) with strike price of \\$ 1280 (1.1 times current price) is \\$ 42.07. The two prices are not close. The reason of this discrapency is probably due to the errors inccured in the estimation of annualized historical volitality. The historical volitality has very little predicting power over of the future volitality of Google's returns, therefore should not be used to build the binomial model"
   ]
  },
  {
   "cell_type": "markdown",
   "metadata": {},
   "source": [
    "**(b) If the two are different in part (a), find the volatility that would make your estimated price equal to\n",
    "the market price and comment.**"
   ]
  },
  {
   "cell_type": "markdown",
   "metadata": {},
   "source": [
    "**Solution:**\n",
    "\n",
    "The volitality that would make the calculated European Option price close to the market price is the implied volitality, which could be found by trying different volitality values until the calculated stock price is close to the market price. In the below function, C0 represents the market price Google's 1-year option"
   ]
  },
  {
   "cell_type": "code",
   "execution_count": 718,
   "metadata": {
    "collapsed": true
   },
   "outputs": [],
   "source": [
    "def implied_volitality_eurocall(r, S0, C0, T, K, n):\n",
    "    # start with an estimate that is relatively close to the true immplied volitality\n",
    "    implied_vol = 0.155\n",
    "    C =  EuropeanCallOption(r, implied_vol, S0, T, K, n)\n",
    "    while (C0 - C) > 0.1:\n",
    "        implied_vol += 0.001\n",
    "        C = EuropeanCallOption(r, implied_vol, S0, T, K, n)\n",
    "    return round(implied_vol, 4)"
   ]
  },
  {
   "cell_type": "code",
   "execution_count": 719,
   "metadata": {
    "collapsed": true
   },
   "outputs": [],
   "source": [
    "vols = np.arange(0.155, 0.16, 0.001)\n",
    "call_vals = [EuropeanCallOption(r, i, S0, T, K, n) for i in vols]"
   ]
  },
  {
   "cell_type": "code",
   "execution_count": 720,
   "metadata": {},
   "outputs": [
    {
     "name": "stdout",
     "output_type": "stream",
     "text": [
      "The estimated volitality that makes the two prices reconcile:  0.166\n"
     ]
    }
   ],
   "source": [
    "C0 = 42.07\n",
    "print(\"The estimated volitality that makes the two prices reconcile: \", \n",
    "      implied_volitality_eurocall(r, S0, C0, T, K, n))\n"
   ]
  },
  {
   "cell_type": "markdown",
   "metadata": {},
   "source": [
    "The implied volitality is 16.6%"
   ]
  },
  {
   "cell_type": "markdown",
   "metadata": {
    "collapsed": true
   },
   "source": [
    "## Question 3\n",
    "\n",
    "Consider the following information on the stock of a company and options on it: $S_0 = \\$49$, $K = \\$50$, $r = 0.03$, $\\sigma = 0.2$, $T = 0.3846$(20 weeks), $\\mu = 0.14$\n",
    "\n",
    "\n",
    "Using the Binomial Method (any one of them) estimate the following and draw the graphs:\n"
   ]
  },
  {
   "cell_type": "markdown",
   "metadata": {},
   "source": [
    "**(i) Delta of the call option as a function of $S_0$, for $S_0$ ranging from \\$20 to \\$80, in increments of \\$2. **"
   ]
  },
  {
   "cell_type": "markdown",
   "metadata": {},
   "source": [
    "**Solution:**\n",
    "\n",
    "initialize parameters"
   ]
  },
  {
   "cell_type": "code",
   "execution_count": 721,
   "metadata": {
    "collapsed": true
   },
   "outputs": [],
   "source": [
    "K = 50\n",
    "sd = 0.25\n",
    "r = 0.03\n",
    "T = 0.3846\n",
    "n = 200\n",
    "S0_range = list(range(20, 81, 2))"
   ]
  },
  {
   "cell_type": "markdown",
   "metadata": {},
   "source": [
    "$Delta = \\frac{\\partial C_t}{\\partial S_t} \\cong \\large\\frac{C(S\\ + \\epsilon,T,\\sigma,r,K)\\ -\\ C(S ,T,\\sigma,r,K)}{\\epsilon}$"
   ]
  },
  {
   "cell_type": "code",
   "execution_count": 722,
   "metadata": {
    "collapsed": true
   },
   "outputs": [],
   "source": [
    "eps = 0.0001\n",
    "delta_S = [(EuropeanCallOption(r, sd, S0_range[i] + eps, T, K, n) \n",
    "          -  EuropeanCallOption(r, sd, S0_range[i], T, K, n)) / eps\n",
    "         for i in list(range(len(S0_range)))]"
   ]
  },
  {
   "cell_type": "markdown",
   "metadata": {},
   "source": [
    "**(ii) Delta of the call option, as a function of T (time to expiration), from 0 to 0.3846 in increments of 0.01.**"
   ]
  },
  {
   "cell_type": "markdown",
   "metadata": {},
   "source": [
    "**Solution:**\n",
    "\n",
    "initialize parameters"
   ]
  },
  {
   "cell_type": "code",
   "execution_count": 723,
   "metadata": {
    "collapsed": true
   },
   "outputs": [],
   "source": [
    "K = 50\n",
    "sd = 0.25\n",
    "r = 0.03\n",
    "T = 0.3846\n",
    "n = 500\n",
    "S0 = 49\n",
    "T_range = np.arange(0.01, 0.39, 0.01)"
   ]
  },
  {
   "cell_type": "code",
   "execution_count": 724,
   "metadata": {
    "collapsed": true
   },
   "outputs": [],
   "source": [
    "eps = 0.0001\n",
    "delta_T = [(EuropeanCallOption(r, sd, S0 + eps, T_range[i], K, n) \n",
    "          -  EuropeanCallOption(r, sd, S0, T_range[i], K, n)) / eps\n",
    "         for i in list(range(len(S0_range)))]"
   ]
  },
  {
   "cell_type": "markdown",
   "metadata": {},
   "source": [
    "**(iii) Theta of the call option, as a function of $S_0$, for $S_0$ ranging from \\$20 to \\$80 in increments of \\$2.**"
   ]
  },
  {
   "cell_type": "markdown",
   "metadata": {},
   "source": [
    "**Solution:**\n",
    "\n",
    "parameters used are same as (i)"
   ]
  },
  {
   "cell_type": "markdown",
   "metadata": {},
   "source": [
    "$Theta = - \\frac{\\partial C_t}{\\partial \\sigma} \\large = - \\frac{C(S,T+ \\epsilon,\\sigma ,r,K)\\ -\\ C(S ,T,\\sigma,r,K)\\ }{\\epsilon}$"
   ]
  },
  {
   "cell_type": "code",
   "execution_count": 725,
   "metadata": {
    "collapsed": true
   },
   "outputs": [],
   "source": [
    "eps = 0.0001\n",
    "theta = [(EuropeanCallOption(r, sd, S0_range[i] , T - eps, K, n) \n",
    "          -  EuropeanCallOption(r, sd, S0_range[i], T, K, n)) / eps\n",
    "         for i in list(range(len(S0_range)))]"
   ]
  },
  {
   "cell_type": "markdown",
   "metadata": {},
   "source": [
    "**(iv) Gamma of the call option, as a function of $S_0$, for $S_0$ ranging from \\$20 to \\$80 in increments of \\$2.**"
   ]
  },
  {
   "cell_type": "markdown",
   "metadata": {},
   "source": [
    "**Solution:**\n",
    "\n",
    "parameters used are same as (i)"
   ]
  },
  {
   "cell_type": "markdown",
   "metadata": {},
   "source": [
    "$Gamma = \\frac{\\partial^2 C_t}{\\partial S_t^2}\\cong \\large\\frac{C(S+ \\epsilon,T,\\sigma,r,K)\\ -\\ 2C(S ,T,\\sigma,r,K)\\ +\\ C(S - \\epsilon,T,\\sigma,r,K)}{(\\epsilon)^2}$"
   ]
  },
  {
   "cell_type": "code",
   "execution_count": 726,
   "metadata": {
    "collapsed": true
   },
   "outputs": [],
   "source": [
    "gamma = [(EuropeanCallOption(r, sd, S0 + eps, T_range[i], K, n)\n",
    "          -  2* EuropeanCallOption(r, sd, S0, T_range[i], K, n)\n",
    "         + EuropeanCallOption(r, sd, S0 - eps, T_range[i], K, n))/ (eps)**2\n",
    "         for i in list(range(len(S0_range)))]"
   ]
  },
  {
   "cell_type": "markdown",
   "metadata": {},
   "source": [
    "**(v) Vega of the call option, as a function of $S_0$, for $S_0$ ranging from \\$20 to \\$80 in increments of \\$2.**"
   ]
  },
  {
   "cell_type": "markdown",
   "metadata": {},
   "source": [
    "$Vega = \\frac{\\partial C_t}{\\partial \\sigma} \\large = \\frac{C(S,T,\\sigma + \\epsilon,r,K)\\ -\\ C(S ,T,\\sigma,r,K)\\ }{\\epsilon}$"
   ]
  },
  {
   "cell_type": "code",
   "execution_count": 727,
   "metadata": {
    "collapsed": true
   },
   "outputs": [],
   "source": [
    "eps = 0.0001\n",
    "vega = [(EuropeanCallOption(r, sd + eps, S0_range[i] , T, K, n) \n",
    "          -  EuropeanCallOption(r, sd, S0_range[i], T, K, n)) / eps\n",
    "         for i in list(range(len(S0_range)))]"
   ]
  },
  {
   "cell_type": "markdown",
   "metadata": {},
   "source": [
    "** (vi) Rho of the call option, as a function of $S_0$, for $S_0$ ranging from \\$20 to \\$80 in increments of \\$2.**"
   ]
  },
  {
   "cell_type": "markdown",
   "metadata": {},
   "source": [
    "$Rho =  \\frac{\\partial C_t}{\\partial r} \\large = \\frac{C(S,T,\\sigma ,r + \\epsilon,K)\\ -\\ C(S ,T,\\sigma,r,K)\\ }{\\epsilon}$"
   ]
  },
  {
   "cell_type": "code",
   "execution_count": 728,
   "metadata": {
    "collapsed": true
   },
   "outputs": [],
   "source": [
    "eps = 0.0001\n",
    "rho = [(EuropeanCallOption(r + eps, sd, S0_range[i] , T, K, n) \n",
    "          -  EuropeanCallOption(r, sd, S0_range[i], T, K, n)) / eps\n",
    "         for i in list(range(len(S0_range)))]"
   ]
  },
  {
   "cell_type": "markdown",
   "metadata": {},
   "source": [
    "Plot greeks as functions of the initial stock price $S_0$ (or time to maturity $T$)"
   ]
  },
  {
   "cell_type": "code",
   "execution_count": 729,
   "metadata": {
    "collapsed": true
   },
   "outputs": [],
   "source": [
    "delta_S = list(zip(S0_range, delta_S))\n",
    "gamma = list(zip(S0_range, gamma))\n",
    "vega = list(zip(S0_range, vega))\n",
    "theta = list(zip(S0_range, theta))\n",
    "rho = list(zip(S0_range, rho))"
   ]
  },
  {
   "cell_type": "code",
   "execution_count": 730,
   "metadata": {
    "scrolled": false
   },
   "outputs": [
    {
     "data": {
      "image/png": "[encoded data removed]",
      "text/plain": [
       "<matplotlib.figure.Figure at 0x2a3066b22b0>"
      ]
     },
     "metadata": {},
     "output_type": "display_data"
    }
   ],
   "source": [
    "plt.figure(figsize=(10,7))\n",
    "plt.plot(*zip(*delta_S), label=\"$\\Delta$ - Varying S\")\n",
    "plt.plot(*zip(*gamma), label = \"$\\Gamma$\")\n",
    "plt.plot(*zip(*vega), label = \"$\\\\upsilon$\")\n",
    "plt.plot(*zip(*theta), label = \"$\\Theta$\")\n",
    "plt.plot(*zip(*rho), label = \"$\\\\rho$\")\n",
    "plt.xlabel(\"Intial Stock Price ($S_0$)\")\n",
    "plt.ylabel(\"Value of Greeks\")\n",
    "plt.title(\"Greeks vs. Varying $S_0$\")\n",
    "plt.legend()\n",
    "plt.show()"
   ]
  },
  {
   "cell_type": "code",
   "execution_count": 731,
   "metadata": {
    "collapsed": true
   },
   "outputs": [],
   "source": [
    "delta_T = list(zip(T_range, delta_T))"
   ]
  },
  {
   "cell_type": "code",
   "execution_count": 732,
   "metadata": {},
   "outputs": [
    {
     "data": {
      "image/png": "[encoded data removed]",
      "text/plain": [
       "<matplotlib.figure.Figure at 0x2a305cf5ef0>"
      ]
     },
     "metadata": {},
     "output_type": "display_data"
    }
   ],
   "source": [
    "plt.figure(figsize=(10,7))\n",
    "plt.plot(*zip(*delta_T), label=\"$\\Delta$ - Varying T\",color=\"C9\")\n",
    "plt.title(\"Delta vs. Varying $T$\")\n",
    "plt.xlabel(\"Different Time to Maturity T\")\n",
    "plt.ylabel(\"Value of Delta\")\n",
    "plt.legend()\n",
    "plt.show()"
   ]
  },
  {
   "cell_type": "markdown",
   "metadata": {},
   "source": [
    "## Question 4\n",
    "\n",
    "Consider 12-month put options on a stock of company XYZ. Assume the risk-free rate is 5%/annum and\n",
    "the volatility of the stock price is 30 % /annum and the strike price of the option is \\$100. Use a Binomial\n",
    "Method to estimate the prices of European and American Put options with current stock prices varying\n",
    "from \\$80 to \\$120 in increments of \\$4. Draw them all in one graph, compare and comment"
   ]
  },
  {
   "cell_type": "markdown",
   "metadata": {},
   "source": [
    "**Solution:**\n",
    "\n",
    "Build both European and American Put option functions"
   ]
  },
  {
   "cell_type": "code",
   "execution_count": 733,
   "metadata": {
    "collapsed": true
   },
   "outputs": [],
   "source": [
    "def stockBinomial_am(u, d, S0, n):\n",
    "    \n",
    "    stockT = [np.array([S0])] \n",
    "    \n",
    "    for i in range(n):\n",
    "        current_S = stockT[-1]\n",
    "        stockt = np.concatenate((current_S*u, [current_S[-1]*d]))\n",
    "        stockT.append(stockt)\n",
    "            \n",
    "    return stockT"
   ]
  },
  {
   "cell_type": "code",
   "execution_count": 734,
   "metadata": {
    "collapsed": true
   },
   "outputs": [],
   "source": [
    "def EuropeanPutOption(r, sd, S0, T, K, n):\n",
    "    \n",
    "    # find u, d and p\n",
    "    dt = T/n\n",
    "    u = m.exp((r - 0.5*sd**2)*dt + sd*m.sqrt(dt))\n",
    "    d = m.exp((r - 0.5*sd**2)*dt - sd*m.sqrt(dt))\n",
    "    p = (m.exp(r*dt) - d)/ (u - d)\n",
    "\n",
    "    # build stock tree and payoff tree\n",
    "    S_binomial = stockBinomial(u, d, S0, n)\n",
    "    \n",
    "    # initialize payoffs\n",
    "    payoffs = np.maximum(K - S_binomial, 0)\n",
    "\n",
    "    # find the call option value  \n",
    "    for i in range(n):\n",
    "        payoffs = (payoffs[:-1] * p + payoffs[1:] * (1 - p))/(m.exp(r*dt))\n",
    "            \n",
    "    return payoffs[0]"
   ]
  },
  {
   "cell_type": "code",
   "execution_count": 735,
   "metadata": {
    "collapsed": true
   },
   "outputs": [],
   "source": [
    "def AmericanPutOption(r, sd, S0, T, K, n):\n",
    "    \n",
    "    # find u, d and p\n",
    "    dt = T/n\n",
    "    u = m.exp((r - 0.5*sd**2)*dt + sd*m.sqrt(dt))\n",
    "    d = m.exp((r - 0.5*sd**2)*dt - sd*m.sqrt(dt))\n",
    "    p = (m.exp(r*dt) - d)/ (u - d)\n",
    "    \n",
    "    # build stock tree and payoff tree\n",
    "    S_binomial = stockBinomial_am(u, d, S0, n)\n",
    "    \n",
    "    # initialize payoffs\n",
    "    payoffs = np.maximum(K - S_binomial[-1], 0)\n",
    "\n",
    "    # find the call option value  \n",
    "    for i in reversed(range(n)):\n",
    "        payoffs = np.maximum((payoffs[:-1] * p + payoffs[1:] * (1 - p))/(m.exp(r*dt)), \n",
    "                             np.maximum(K - S_binomial[i], 0))\n",
    "                              \n",
    "    return payoffs[0]"
   ]
  },
  {
   "cell_type": "markdown",
   "metadata": {},
   "source": [
    "Initialize parameters"
   ]
  },
  {
   "cell_type": "code",
   "execution_count": 736,
   "metadata": {
    "collapsed": true
   },
   "outputs": [],
   "source": [
    "K = 100\n",
    "sd = 0.3\n",
    "r = 0.05\n",
    "n = 120\n",
    "T = 1\n",
    "S0_range2 = list(range(80, 121, 4))"
   ]
  },
  {
   "cell_type": "markdown",
   "metadata": {},
   "source": [
    "Compute European call and American call value"
   ]
  },
  {
   "cell_type": "code",
   "execution_count": 737,
   "metadata": {
    "collapsed": true
   },
   "outputs": [],
   "source": [
    "european_call_vals = [EuropeanPutOption(r, sd, S0_range2[i], T, K, n) for i in range(len(S0_range2))]\n",
    "American_call_vals = [AmericanPutOption(r, sd, S0_range2[i], T, K, n) for i in range(len(S0_range2))]"
   ]
  },
  {
   "cell_type": "code",
   "execution_count": 738,
   "metadata": {
    "collapsed": true
   },
   "outputs": [],
   "source": [
    "eurocall = list(zip(S0_range2, european_call_vals))\n",
    "amcall = list(zip(S0_range2, American_call_vals))"
   ]
  },
  {
   "cell_type": "code",
   "execution_count": 739,
   "metadata": {},
   "outputs": [
    {
     "data": {
      "image/png": "[encoded data removed]",
      "text/plain": [
       "<matplotlib.figure.Figure at 0x2a304619d30>"
      ]
     },
     "metadata": {},
     "output_type": "display_data"
    }
   ],
   "source": [
    "plt.figure(figsize=(10,7))\n",
    "plt.plot(*zip(*eurocall), label=\"European Call Value - Varying S\", color = 'g')\n",
    "plt.plot(*zip(*amcall), label=\"American Call Value - Varying S\", color = 'C1')\n",
    "plt.title(\"European and American Call Values with Varying $S_0$\")\n",
    "plt.xlabel(\"Intial Stock Price ($S_0$)\")\n",
    "plt.ylabel(\"European (American) Call Values\")\n",
    "plt.legend()\n",
    "plt.show()"
   ]
  },
  {
   "cell_type": "markdown",
   "metadata": {},
   "source": [
    "## Question 5\n",
    "\n",
    "Compare the convergence rates of the two methods below by doing the following:\n",
    "Use the Trinomial Method to price a 6-month European Call option with the following information: the\n",
    "risk-free interest rate is 5% per annum and the volatility is 24%/annum, the current stock price is \\$32 and\n",
    "the strike price is \\$30. Divide the time interval into 𝑛 parts to estimate the price of this option. Use n =\n",
    "10, 15, 20, 40, 70, 80, 100, 200 and 500 to compute the approximate price and draw them in one graph,\n",
    "where the horizontal axis measures n, and the vertical one measures the price of the option. The methods\n",
    "are:"
   ]
  },
  {
   "cell_type": "markdown",
   "metadata": {},
   "source": [
    "(a) Use the trinomial method applied to the stock price-process ($S_t$) in which \n",
    "\n",
    "$u = \\frac{1}{d}$, $d = e^{-\\sigma\\sqrt{3\\Delta}}$, $p_d = \\frac{r\\Delta(1 - u) + (r\\Delta)^2 + \\sigma^2\\Delta}{(u-d)(1-d)}$ ,\n",
    "$p_u = \\frac{r\\Delta(1 - d) + (r\\Delta)^2 + \\sigma^2\\Delta}{(u-d)(u-1)}$, $p_m = 1 - p_u - p_d$"
   ]
  },
  {
   "cell_type": "markdown",
   "metadata": {
    "collapsed": true
   },
   "source": [
    "**Solution:**\n",
    "\n"
   ]
  },
  {
   "cell_type": "markdown",
   "metadata": {},
   "source": [
    "Build the trinomial tree and return the last period stock prices"
   ]
  },
  {
   "cell_type": "code",
   "execution_count": 740,
   "metadata": {
    "collapsed": true
   },
   "outputs": [],
   "source": [
    "def stockTrinomial(r, u, d, mid, S0, T, n):\n",
    "\n",
    "    stockT = [np.array([S0])] \n",
    "    \n",
    "    for i in range(n):\n",
    "        current_S = stockT[-1]\n",
    "        stockt = np.concatenate((current_S*u, [current_S[-1]*mid,\n",
    "                                               current_S[-1]*d]))\n",
    "        stockT.append(stockt)\n",
    "                                \n",
    "    return stockT[-1]  "
   ]
  },
  {
   "cell_type": "markdown",
   "metadata": {},
   "source": [
    "Build a function that evaluates the European option with trinomial tree"
   ]
  },
  {
   "cell_type": "code",
   "execution_count": 741,
   "metadata": {
    "collapsed": true
   },
   "outputs": [],
   "source": [
    "def EuropeanTrinomial_S(r, sd, S0, T, K, n):\n",
    "    \n",
    "    dt = T/n\n",
    "    \n",
    "    # up, down and middle\n",
    "    d = m.exp(-sd*m.sqrt(3*dt))\n",
    "    u = 1/d\n",
    "    mid = 1\n",
    "\n",
    "    # find risk-neutral probability, pu, pd, pm\n",
    "    pu = (r*dt*(1-d) + (r*dt)**2 + sd**2 *dt)/((u - d)*(u - 1))\n",
    "    pd = (r*dt*(1-u) + (r*dt)**2 + sd**2 *dt)/((u - d)*(1 - d))\n",
    "    pm = 1 - pu - pd\n",
    "    \n",
    "    # Find last period stock price \n",
    "    S_trinomial =  stockTrinomial(r, u, d, mid, S0, T, n)\n",
    "    \n",
    "    # initialize payoffs\n",
    "    payoffs = np.maximum(S_trinomial - K, 0)\n",
    "\n",
    "    # find the call option value  \n",
    "    for i in range(n):\n",
    "        payoffs = (payoffs[:-2] * pu + payoffs[1:-1] * pm + payoffs[2:] * pd)/(m.exp(r*dt))\n",
    "    \n",
    "    return payoffs[0]\n",
    "    "
   ]
  },
  {
   "cell_type": "markdown",
   "metadata": {},
   "source": [
    "initialize parameters"
   ]
  },
  {
   "cell_type": "code",
   "execution_count": 742,
   "metadata": {
    "collapsed": true
   },
   "outputs": [],
   "source": [
    "T = 1/2\n",
    "sd = 0.24\n",
    "r = 0.05\n",
    "S0 = 32\n",
    "K =  30\n",
    "N = [10, 15, 20, 40, 70, 80, 100, 200, 500]"
   ]
  },
  {
   "cell_type": "markdown",
   "metadata": {},
   "source": [
    "Find the european call option values with trinomial tree for varying number of steps"
   ]
  },
  {
   "cell_type": "code",
   "execution_count": 743,
   "metadata": {
    "collapsed": true
   },
   "outputs": [],
   "source": [
    "calls_trinomial_S = [EuropeanTrinomial_S(r, sd, S0, T, K, i) for i in N]"
   ]
  },
  {
   "cell_type": "markdown",
   "metadata": {},
   "source": [
    "(b) Use the trinomial method applied to the Log-stock price-process ($X_t$) in which \n",
    "\n",
    "$\\Delta X_u = \\sigma\\sqrt{3\\Delta}$, $\\Delta X_u = -\\sigma\\sqrt{3\\Delta}$, $p_u = \\frac{1}{2}\\bigg(\\frac{\\sigma^2\\Delta +\\big(r−\\frac{\\sigma^2}{2}\\big)^2 \\Delta^2}{\\Delta X_u ^2} + \\frac{(r−\\frac{\\sigma^2}{2}) \\Delta}{\\Delta X_u}\\bigg)$, $p_d = \\frac{1}{2}\\bigg(\\frac{\\sigma^2\\Delta +\\big(r−\\frac{\\sigma^2}{2}\\big)^2 \\Delta^2}{\\Delta X_u ^2} - \\frac{(r−\\frac{\\sigma^2}{2}) \\Delta}{\\Delta X_u}\\bigg)$, $P_m = 1 - P_m - P_d$"
   ]
  },
  {
   "cell_type": "markdown",
   "metadata": {},
   "source": [
    "**Solution:**\n",
    "\n",
    "Build a function of log price using trinomial tree"
   ]
  },
  {
   "cell_type": "code",
   "execution_count": 744,
   "metadata": {
    "collapsed": true
   },
   "outputs": [],
   "source": [
    "def logStockTrinomial(r, dXu, dXd, dXm, X0, T, n):\n",
    "\n",
    "    log_stockT = [np.array([X0])] \n",
    "    \n",
    "    \n",
    "    for i in range(n):\n",
    "        current_X = log_stockT[-1]\n",
    "        \n",
    "        log_stockt = np.concatenate((current_X + dXu, \n",
    "                                     [current_X[-1] + dXm, current_X[-1] + dXd]))\n",
    "\n",
    "        log_stockT.append(log_stockt)\n",
    "                                \n",
    "    return log_stockT[-1]  "
   ]
  },
  {
   "cell_type": "code",
   "execution_count": 745,
   "metadata": {
    "collapsed": true
   },
   "outputs": [],
   "source": [
    "def EuropeanTrinomial_logS(r, sd, S0, T, K, n):\n",
    "    \n",
    "    dt = T/n\n",
    "    X0 = m.log(S0)\n",
    "    \n",
    "    # up, down and middle\n",
    "    dXu = sd*m.sqrt(3*dt)\n",
    "    dXd = -sd*m.sqrt(3*dt)\n",
    "    dXm = 0\n",
    "\n",
    "    # find risk-neutral probability, pu, pd, pm\n",
    "    pu = (1/2)*(((r - 0.5*sd**2)**2 *(dt)**2 + sd**2 *dt)/(dXu)**2 + ((r - 0.5*sd**2)*dt)/dXu)\n",
    "    pd = (1/2)*(((r - 0.5*sd**2)**2 *(dt)**2 + sd**2 *dt)/(dXu)**2 - ((r - 0.5*sd**2)*dt)/dXu)\n",
    "    pm = 1 - pu - pd\n",
    "    \n",
    "    # Find last period stock price \n",
    "    logS_trinomial =  logStockTrinomial(r, dXu, dXd, dXm, X0, T, n)\n",
    "    \n",
    "    # initialize payoffs\n",
    "    payoffs = np.maximum(np.exp(logS_trinomial) - K, 0)\n",
    "\n",
    "    # find the call option value  \n",
    "    for i in range(n):\n",
    "        payoffs = (payoffs[:-2] * pu + payoffs[1:-1] * pm + payoffs[2:] * pd)/(m.exp(r*dt))\n",
    "    \n",
    "    return payoffs[0]"
   ]
  },
  {
   "cell_type": "code",
   "execution_count": 746,
   "metadata": {
    "collapsed": true
   },
   "outputs": [],
   "source": [
    "calls_trinomial_logS = [EuropeanTrinomial_logS(r, sd, S0, T, K, i) for i in N]"
   ]
  },
  {
   "cell_type": "markdown",
   "metadata": {
    "collapsed": true
   },
   "source": [
    "Plot the evaluated option price with the above two schemes"
   ]
  },
  {
   "cell_type": "code",
   "execution_count": 747,
   "metadata": {
    "collapsed": true
   },
   "outputs": [],
   "source": [
    "calls_trinomial_S = zip(N, calls_trinomial_S)\n",
    "calls_trinomial_logS = zip(N, calls_trinomial_logS)"
   ]
  },
  {
   "cell_type": "code",
   "execution_count": 748,
   "metadata": {},
   "outputs": [
    {
     "data": {
      "image/png": "[encoded data removed]",
      "text/plain": [
       "<matplotlib.figure.Figure at 0x2a3062460f0>"
      ]
     },
     "metadata": {},
     "output_type": "display_data"
    }
   ],
   "source": [
    "plt.figure(figsize=(10,7))\n",
    "plt.plot(*zip(*calls_trinomial_S), label=\"European Call Value - S\", color = 'C0')\n",
    "plt.plot(*zip(*calls_trinomial_logS), label=\"European Call Value - Log S\", color = 'r')\n",
    "plt.title(\"European Call Values with Varying Number of Steps\")\n",
    "plt.xlabel(\"Number of Steps ($N$)\")\n",
    "plt.ylabel(\"European Call Value\")\n",
    "plt.legend()\n",
    "plt.show()"
   ]
  },
  {
   "cell_type": "markdown",
   "metadata": {},
   "source": [
    "## Question 6\n",
    "\n",
    "Use Halton’s Low-Discrepancy Sequences to price European call options. The code should be generic: it\n",
    "will ask for the user inputs for $S_0$, K, T, r, $\\sigma$, $N$ (number of points) and $b_1$ (base 1) and $b_2$ (base 2). Use\n",
    "the Box-Muller method to generate Normals such as:\n",
    "\n",
    "$$\\begin{equation*}\n",
    "       \\begin{cases}\n",
    "            Z_1 = \\sqrt{-2 ln(H_1)} cos(2\\pi H_2)\\\\\n",
    "            Z_2 = \\sqrt{-2 ln(H_1)} sin(2\\pi H_2)\\\\\n",
    "         \\end{cases}\n",
    "\\end{equation*}$$\n",
    "\n",
    "\n",
    "where $H_1$ and $H_2$ will be the Halton’s numbers with base $b_1$ and base $b_2$ accordingly.\n",
    "\n",
    "For the price of the call option you may use the following formula:\n",
    "\n",
    "$$C = E\\big[f(W_T)\\big] = e^{-rT} E\\bigg(max(S_0 e^{\\sigma W_T + ( r − \\frac{ 1 }{ 2 } \\sigma^2)T} - K, 0)\\bigg)$$"
   ]
  },
  {
   "cell_type": "markdown",
   "metadata": {},
   "source": [
    "**Solution:**\n",
    "\n",
    "Start with generating the Halton Sequence"
   ]
  },
  {
   "cell_type": "code",
   "execution_count": 749,
   "metadata": {
    "collapsed": true
   },
   "outputs": [],
   "source": [
    "def Halton_1D(size, base):\n",
    "    sequence = []\n",
    "    for i in range(size + 1):\n",
    "        k, m = 0., 1.\n",
    "        while i > 0:\n",
    "            i, a = (i // base, i % base)\n",
    "            m *= base\n",
    "            k += a / m\n",
    "        sequence.append(k)\n",
    "    return sequence"
   ]
  },
  {
   "cell_type": "code",
   "execution_count": 750,
   "metadata": {
    "collapsed": true
   },
   "outputs": [],
   "source": [
    "def Halton_2D(size, b1, b2):\n",
    "    \n",
    "    halton_x = Halton_1D(size, b1)[1:]\n",
    "    halton_y = Halton_1D(size, b2)[1:]\n",
    "\n",
    "    return halton_x, halton_y "
   ]
  },
  {
   "cell_type": "markdown",
   "metadata": {},
   "source": [
    "Generate a Halton sequence and use them to generate independent random normal samples with given size and bases. Use Box-Muller Algorithm"
   ]
  },
  {
   "cell_type": "code",
   "execution_count": 751,
   "metadata": {
    "collapsed": true
   },
   "outputs": [],
   "source": [
    "def normals_from_Halton(size, b1, b2):\n",
    "    \n",
    "    # Generate Halton Sequence and use them as uniform random samples\n",
    "    U1, U2 = Halton_2D(size//2, b1, b2)\n",
    "    # Generate random normal samples with Box-Muller Algorithm\n",
    "    Z1 = list(map(lambda u1, u2: m.sqrt(-2*m.log(u1)) * m.cos(2*m.pi*u2), U1, U2))\n",
    "    Z2 = list(map(lambda u1, u2: m.sqrt(-2*m.log(u1)) * m.sin(2*m.pi*u2), U1, U2))\n",
    "    \n",
    "    return np.asarray(Z1 + Z2)"
   ]
  },
  {
   "cell_type": "markdown",
   "metadata": {},
   "source": [
    "Use the generated normal to evaluate the call option via Monte Carlo Simulation"
   ]
  },
  {
   "cell_type": "code",
   "execution_count": 752,
   "metadata": {
    "collapsed": true
   },
   "outputs": [],
   "source": [
    "def EuropeanCallHalton(r, sd, S0, T, K, n, b1, b2):\n",
    "    \n",
    "    # generate normal from Halton Sequence\n",
    "    Zt = normals_from_Halton(n, b1, b2)\n",
    "    # Simulate Stock prices at time T\n",
    "    ST = S0*np.exp((r - 0.5*sd**2)*T + sd*np.sqrt(T)*Zt)\n",
    "    \n",
    "    # Find call option value\n",
    "    payoffs = np.maximum(ST - K, 0)\n",
    "    \n",
    "    C = m.exp(-r*T)* np.mean(payoffs)\n",
    "    \n",
    "    return C"
   ]
  },
  {
   "cell_type": "markdown",
   "metadata": {},
   "source": [
    "Use this function to evaluate the same option in question 1 and 5,\n",
    "\n",
    "a 6-month European Call option with the following information: the risk-free interest rate is 5% per annum and the volatility is 24%/annum, the current stock price is \\$ 32 and the strike price is \\$30. The result should be really close to the value calculated by binomial and trinomial tree."
   ]
  },
  {
   "cell_type": "code",
   "execution_count": 753,
   "metadata": {
    "collapsed": true
   },
   "outputs": [],
   "source": [
    "# Define parameters\n",
    "r = 0.05\n",
    "sd = 0.24\n",
    "S0 = 32\n",
    "K = 30\n",
    "T = 0.5\n",
    "n = 1000\n",
    "b1 = 2\n",
    "b2 = 7"
   ]
  },
  {
   "cell_type": "code",
   "execution_count": 754,
   "metadata": {},
   "outputs": [
    {
     "name": "stdout",
     "output_type": "stream",
     "text": [
      "The price of the European Call option found by Halton Sequence: $ 3.73656498443\n"
     ]
    }
   ],
   "source": [
    "print(\"The price of the European Call option found by Halton Sequence: $\", EuropeanCallHalton(r, sd, S0, T, K, n, b1, b2))"
   ]
  },
  {
   "cell_type": "markdown",
   "metadata": {},
   "source": [
    "The Halton evaluated European option is very close to the value evaluated by binomial tree and trinomial tree method, which is $3.73"
   ]
  }
 ],
 "metadata": {
  "kernelspec": {
   "display_name": "Python 3",
   "language": "python",
   "name": "python3"
  },
  "language_info": {
   "codemirror_mode": {
    "name": "ipython",
    "version": 3
   },
   "file_extension": ".py",
   "mimetype": "text/x-python",
   "name": "python",
   "nbconvert_exporter": "python",
   "pygments_lexer": "ipython3",
   "version": "3.6.3"
  }
 },
 "nbformat": 4,
 "nbformat_minor": 2
}
