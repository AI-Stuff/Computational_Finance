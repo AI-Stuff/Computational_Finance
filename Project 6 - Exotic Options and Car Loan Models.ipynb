{
 "cells": [
  {
   "cell_type": "markdown",
   "metadata": {},
   "source": [
    "# Project 6 - Exotic Options and Car Loan Models"
   ]
  },
  {
   "cell_type": "markdown",
   "metadata": {},
   "source": [
    "\n",
    "**Name:** Bowen Chen\n",
    "\n",
    "**Section:** 1\n",
    "\n",
    "**Date:** Feb 18, 2018 "
   ]
  },
  {
   "cell_type": "code",
   "execution_count": null,
   "metadata": {
    "collapsed": true
   },
   "outputs": [],
   "source": [
    "# python set up\n",
    "import matplotlib.pyplot as plt\n",
    "import math\n",
    "import numpy as np\n",
    "import pandas as pd"
   ]
  },
  {
   "cell_type": "markdown",
   "metadata": {},
   "source": [
    "## Question 1\n",
    "\n",
    "Consider a 12-month Fixed Strike Lookback Call and Put options, when the interest rate is 3% per annum, the current stock price is \\$98 and the strike price is \\$100. Use the MC simulation method to estimate the prices of Call and Put options for the following range of volatilities: from 12% to 48%, in increments of 4%. The payoff of the call option is $(S_{max} − X)^+$ and The payoff of the put option is $(X - S_{min})^+$ "
   ]
  },
  {
   "cell_type": "markdown",
   "metadata": {},
   "source": [
    "**Solution:**\n",
    "\n",
    "Start with the Monte Carlo Simulation of stock prices, with half of the paths being antithetic paths"
   ]
  },
  {
   "cell_type": "code",
   "execution_count": null,
   "metadata": {
    "collapsed": true
   },
   "outputs": [],
   "source": [
    "def StockPrices(S0, r, sd, T, paths, steps):\n",
    "    \n",
    "    dt = T/steps\n",
    "    \n",
    "    # Generate stochastic process and its antithetic paths\n",
    "    Z = np.random.normal(0, 1, paths//2 * steps).reshape((paths//2, steps))\n",
    "    Z_inv = -Z\n",
    "    \n",
    "    dWt = math.sqrt(dt) * Z\n",
    "    dWt_inv = math.sqrt(dt) * Z_inv\n",
    "    \n",
    "    # bind the normal and antithetic Wt\n",
    "    dWt = np.concatenate((dWt, dWt_inv), axis=0)\n",
    "    \n",
    "    St = np.zeros((paths, steps + 1))\n",
    "    St[:, 0] = S0\n",
    "    \n",
    "    for i in range (1, steps + 1):\n",
    "        St[:, i] = St[:, i - 1]*np.exp((r - 1/2*np.power(sd, 2))*dt + sd*dWt[:, i - 1])\n",
    "    \n",
    "    return St[:, 1:]"
   ]
  },
  {
   "cell_type": "markdown",
   "metadata": {},
   "source": [
    "Assume the lookback option is a European Option, now define the function that could find the value of the lookback call and lookback put"
   ]
  },
  {
   "cell_type": "code",
   "execution_count": null,
   "metadata": {
    "collapsed": true
   },
   "outputs": [],
   "source": [
    "def LookBackOption(S0, K, r, sd, T, paths, Type):\n",
    "    \n",
    "    # use daily frequency\n",
    "    steps = 252\n",
    "    St = StockPrices(S0, r, sd, T, paths, steps)\n",
    "    \n",
    "    # find the maximum and minimum stock price incurred for each path\n",
    "    St_max = St.max(axis = 1)\n",
    "    St_min = St.min(axis = 1)\n",
    "    \n",
    "    # find the lookback option value\n",
    "    if Type == \"call\":\n",
    "        option_value = np.exp(-r*T) * np.mean(np.maximum(St_max - K, 0))\n",
    "    elif Type == \"put\":\n",
    "        option_value = np.exp(-r*T) * np.mean(np.maximum(K - St_min, 0))\n",
    "        \n",
    "    return option_value"
   ]
  },
  {
   "cell_type": "markdown",
   "metadata": {},
   "source": [
    "Initialize parameters"
   ]
  },
  {
   "cell_type": "code",
   "execution_count": null,
   "metadata": {
    "collapsed": true
   },
   "outputs": [],
   "source": [
    "np.random.seed(7)\n",
    "r = 0.03\n",
    "paths = 10000\n",
    "K = 100\n",
    "S0 = 98\n",
    "T = 1\n",
    "sd = np.arange(0.12, 0.49, 0.04)"
   ]
  },
  {
   "cell_type": "markdown",
   "metadata": {},
   "source": [
    "Find values for lookback call and lookback put options"
   ]
  },
  {
   "cell_type": "code",
   "execution_count": null,
   "metadata": {
    "collapsed": true
   },
   "outputs": [],
   "source": [
    "call_value = [LookBackOption(S0, K, r, i, T, paths, \"call\") for i in sd]\n",
    "put_value = [LookBackOption(S0, K, r, i, T, paths, \"put\") for i in sd]"
   ]
  },
  {
   "cell_type": "markdown",
   "metadata": {},
   "source": [
    "Plot the lookback call and the lookback put values on the same plot"
   ]
  },
  {
   "cell_type": "code",
   "execution_count": null,
   "metadata": {},
   "outputs": [],
   "source": [
    "plt.figure(figsize=(10, 7))\n",
    "plt.plot(sd, call_value,  linestyle='--', \n",
    "         marker='o')\n",
    "\n",
    "plt.xlabel('Volitality $\\sigma$')\n",
    "plt.ylabel('European Call Value $')\n",
    "plt.title('European Lookback Call Option Values')\n",
    "plt.show()"
   ]
  },
  {
   "cell_type": "code",
   "execution_count": null,
   "metadata": {},
   "outputs": [],
   "source": [
    "plt.figure(figsize=(10, 7))\n",
    "plt.plot(sd, put_value,  linestyle='--', \n",
    "         marker='o', color = 'orange')\n",
    "plt.xlabel('Volitality $\\sigma$')\n",
    "plt.ylabel('European Put Value $')\n",
    "plt.title('European Lookback Put Option Values')\n",
    "plt.show()"
   ]
  },
  {
   "cell_type": "markdown",
   "metadata": {},
   "source": [
    "## Question 2\n",
    "\n",
    "Assume that the value of a collateral follows a jump-diffusion process:\n",
    "\n",
    "$$\\frac{dV_t}{V_t} = \\mu dt + \\sigma dW_t + \\gamma dJ_t$$"
   ]
  },
  {
   "cell_type": "markdown",
   "metadata": {},
   "source": [
    "$V_0$ = \\$20,000, $L_0$ = \\$22,000, $\\mu$ = −0.1, $\\sigma$ = 0.2, $\\gamma$ = −0.4, $\\lambda_1$ = 0.2, T = 5 years, $r_0$ =\n",
    "0.02, $\\delta$ = 0.25, $\\lambda_2$ = 0.4, $\\alpha$ = 0.7, $\\epsilon$ = 0.95"
   ]
  },
  {
   "cell_type": "markdown",
   "metadata": {},
   "source": [
    "Simulate the loan collateral value as jump diffusion process using timeline method. Assume monthly time step"
   ]
  },
  {
   "cell_type": "code",
   "execution_count": null,
   "metadata": {
    "collapsed": true
   },
   "outputs": [],
   "source": [
    "def loanCollateral_Vt(V0, mu, sigma, gamma, lambda1, T, paths):\n",
    "    \n",
    "    dt = 1/12\n",
    "    steps = T * 12\n",
    "\n",
    "    # Generate stochastic process and its antithetic paths\n",
    "    Z = np.random.normal(0, 1, paths * steps).reshape((paths, steps))\n",
    "    dWt = math.sqrt(dt) * Z\n",
    "\n",
    "    # Initialize Vt process\n",
    "    Vt = np.zeros((paths, steps + 1))\n",
    "    Vt[:, 0] = V0\n",
    "\n",
    "    # Build Vt Process\n",
    "    for i in range (1, steps + 1):\n",
    "        Vt[:, i] = (Vt[:, i - 1] * np.exp((mu - 1/2*np.power(sigma, 2)) * dt + sigma * dWt[:, i - 1]) \n",
    "                     * (1 + gamma * np.random.poisson(lambda1*dt, paths)))   \n",
    "        \n",
    "    return Vt[:, 1:]"
   ]
  },
  {
   "cell_type": "markdown",
   "metadata": {},
   "source": [
    "To find the optimal exercise time Q, first build the function that models the payment process of a loan. The loan balance is defined as $$L_t = a - bc^{12t}$$ where $a = \\frac{PMT}{r}$, $b = \\frac{PMT}{r(1 + r)^n}$, $c = (1 + r)$, and PMT represents monthly payment. The following function will find the value of loan given time t"
   ]
  },
  {
   "cell_type": "code",
   "execution_count": null,
   "metadata": {
    "collapsed": true
   },
   "outputs": [],
   "source": [
    "def loanBalance_Lt(L0, r0, T, lambda2, delta, t):\n",
    "    \n",
    "    # find monthly APR (r)\n",
    "    R = r0 + delta*lambda2\n",
    "    r = R/12\n",
    "    \n",
    "    # find monthly payment\n",
    "    n = T * 12\n",
    "    PMT = (L0*r)/(1 - (1/(1+r)**n))\n",
    "    \n",
    "    # Find the loan value given time t\n",
    "    a = PMT/r\n",
    "    b = PMT/(r*(1 + r)**n)\n",
    "    c = (1 + r)\n",
    "    Lt = np.clip(a - b*c**(12*t), a_max = None, a_min = 0)\n",
    "    \n",
    "    return Lt[1:]"
   ]
  },
  {
   "cell_type": "markdown",
   "metadata": {},
   "source": [
    "Find the recovery rate of the loan at time t, denoted by $q_t$. $q_t$ is defined as $q_t = \\alpha + \\beta t$, where $\\alpha$ is a given constant, and $\\beta = \\frac{\\epsilon - \\alpha}{T}$. We have $q_T = \\epsilon$"
   ]
  },
  {
   "cell_type": "code",
   "execution_count": null,
   "metadata": {
    "collapsed": true
   },
   "outputs": [],
   "source": [
    "def recoveryRate_qt(alpha, eps, T, t):\n",
    "    beta = (eps - alpha)/T\n",
    "    qt = alpha + beta*t \n",
    "    return qt[1:]"
   ]
  },
  {
   "cell_type": "markdown",
   "metadata": {},
   "source": [
    "Define exercise time $Q = min(t \\geq 0: V_t \\leq q_t L_t)$, which represents the first time that the relative value of the collateral crosses a threshold where it is optimal to default.The following function will find the optimal stopping time Q for every path. Set all the paths that no default happened to 5000"
   ]
  },
  {
   "cell_type": "code",
   "execution_count": null,
   "metadata": {
    "collapsed": true
   },
   "outputs": [],
   "source": [
    "def stopTime_Q(Vt, eps, paths, T):\n",
    "    \n",
    "    dt = 1/12\n",
    "    t = np.arange(0, T + 0.01, 1/12)\n",
    "    \n",
    "    # find loan balance and recovery rate over time\n",
    "    Lt = loanBalance_Lt(L0, r0, T, lambda2, delta, t)\n",
    "    qt = recoveryRate_qt(alpha, eps, T, t)\n",
    "    \n",
    "    # find all of the time steps that the borrow are likely default, set the value of default_time at time step to 1\n",
    "    residual_collateral = np.tile(Lt*qt, paths).reshape((paths, 12 * T))\n",
    "    default_time = np.where(Vt - residual_collateral  <= 0, 1, 0)\n",
    "    \n",
    "    # Find stopping time Qt\n",
    "    Q = np.argmax(default_time, axis = 1) \n",
    "    \n",
    "    # Set all paths that has no default to the largest value of index\n",
    "    no_default = np.where(np.sum(default_time, axis = 1) == 0)\n",
    "    Q[no_default] = 5000\n",
    "    \n",
    "    return Q"
   ]
  },
  {
   "cell_type": "markdown",
   "metadata": {},
   "source": [
    "Define another stopping time $S = min(t \\leq 0: N_t > 0)$, where $N_t$ is the poisson process that represents the first default happening. Set all the paths where no default happened to 5000"
   ]
  },
  {
   "cell_type": "code",
   "execution_count": null,
   "metadata": {
    "collapsed": true
   },
   "outputs": [],
   "source": [
    "def stopTime_S(lambda2, paths, T):\n",
    "    \n",
    "    # Generate a matrix of poisson process\n",
    "    dt = 1/12\n",
    "    Nt = np.clip(np.random.poisson(lambda2*dt, (paths, T*12)), \n",
    "                 a_max = 1,\n",
    "                 a_min = 0)\n",
    "    \n",
    "    S = np.argmax(Nt, axis = 1) \n",
    "    # Set all paths that has no default to the largest value of index\n",
    "    no_default = np.where(np.sum(Nt, axis = 1) == 0)\n",
    "    S[no_default] = 5000\n",
    "    \n",
    "    return S  "
   ]
  },
  {
   "cell_type": "markdown",
   "metadata": {},
   "source": [
    "Now find the estimated exercise time for each path by taking the minimum of Q and S"
   ]
  },
  {
   "cell_type": "code",
   "execution_count": null,
   "metadata": {
    "collapsed": true
   },
   "outputs": [],
   "source": [
    "def estimated_default_time(Q, S):\n",
    "    \n",
    "    # find which one (Q, S) is exercised earlier\n",
    "    qs = np.where(Q - S <= 0, 1, 0)\n",
    "    \n",
    "    # set the paths where there is no default to 5000\n",
    "    no_default = np.where(Q + S == 5000*2)\n",
    "    qs[no_default] = 5000\n",
    "    \n",
    "    return np.minimum(Q, S), qs"
   ]
  },
  {
   "cell_type": "markdown",
   "metadata": {},
   "source": [
    "Find the value of default option"
   ]
  },
  {
   "cell_type": "code",
   "execution_count": null,
   "metadata": {
    "collapsed": true
   },
   "outputs": [],
   "source": [
    "def loanModel(V0, mu, sigma, gamma, lambda1,\n",
    "                       T, paths, L0, r0, lambda2, delta, eps):\n",
    "    dt = 1/12\n",
    "    t = np.arange(0, T + 0.01, 1/12)\n",
    "    \n",
    "    # find loan collateral value\n",
    "    Vt = loanCollateral_Vt(V0, mu, sigma, gamma, lambda1, T, paths)\n",
    "    \n",
    "    # loan balance\n",
    "    Lt = np.tile(loanBalance_Lt(L0, r0, T, lambda2, delta, t), paths).reshape((paths, 12 * T))\n",
    "    \n",
    "    # default time Q, S\n",
    "    Q = stopTime_Q(Vt, eps, paths, T)\n",
    "    S = stopTime_S(lambda2, paths, T)\n",
    "    \n",
    "    # optimal default time\n",
    "    tau, qs = estimated_default_time(Q, S)\n",
    "    \n",
    "    # find which type of default occured\n",
    "    default_q = np.where(qs == 1)\n",
    "    default_s = np.where(qs == 0)\n",
    "    no_default = np.where(qs == 5000)\n",
    "    \n",
    "    # find discount factor of each path\n",
    "    df = np.exp(-r0*dt*tau) \n",
    "\n",
    "    # find payoff of the default option, based on conditions\n",
    "    payoff = np.zeros(paths)\n",
    "    payoff[default_q] = np.maximum(Lt[default_q, tau[default_q]] \n",
    "                                   - eps* Vt[default_q, tau[default_q]], 0)\n",
    "\n",
    "    payoff[default_s] =  np.abs(Lt[default_s, tau[default_s]] \n",
    "                                - eps* Vt[default_s, tau[default_s]])\n",
    "\n",
    "    payoff[no_default] = 0\n",
    "\n",
    "    # discount the expected payoff and find the value of default option \n",
    "    option_value = np.mean(payoff*df)\n",
    "    \n",
    "    # find default intensity\n",
    "    default_intensity =  1 - len(no_default[0])/paths\n",
    "    \n",
    "    # find expected stopping time\n",
    "    expected_stoptime = np.mean(tau[np.where(tau != 5000)[0]]*dt)\n",
    "    \n",
    "    d = {'Option Value': round(option_value, 4),\n",
    "        'Default Intensity': round(default_intensity, 4),\n",
    "        'Expected Stop Time':round(expected_stoptime, 4)}\n",
    "    \n",
    "    return d"
   ]
  },
  {
   "cell_type": "markdown",
   "metadata": {},
   "source": [
    "Initialize parameters"
   ]
  },
  {
   "cell_type": "code",
   "execution_count": null,
   "metadata": {
    "collapsed": true
   },
   "outputs": [],
   "source": [
    "V0 = 20000\n",
    "L0 = 22000\n",
    "mu = -0.1\n",
    "sigma = 0.2\n",
    "gamma = -0.4\n",
    "lambda1 = 0.2\n",
    "T = 5\n",
    "r0 = 0.02\n",
    "delta = 0.25\n",
    "lambda2 = 0.4\n",
    "alpha = 0.7\n",
    "eps = 0.95\n",
    "paths = 50000\n",
    "np.random.seed(7)"
   ]
  },
  {
   "cell_type": "markdown",
   "metadata": {},
   "source": [
    "**(a)** Estimate the value of the default option\n",
    "\n"
   ]
  },
  {
   "cell_type": "markdown",
   "metadata": {},
   "source": [
    "**(b)** Estimate the default probability\n"
   ]
  },
  {
   "cell_type": "markdown",
   "metadata": {},
   "source": [
    "**(c)** Find the Expected Exercise Time of the default option\n",
    "\n"
   ]
  },
  {
   "cell_type": "markdown",
   "metadata": {},
   "source": [
    "**Solution:**"
   ]
  },
  {
   "cell_type": "markdown",
   "metadata": {},
   "source": [
    "When $\\lambda_1$ = 0.2, $\\lambda_2$ = 0.4, T = 5, the value, estimated default probability and expected exercise time are"
   ]
  },
  {
   "cell_type": "code",
   "execution_count": null,
   "metadata": {},
   "outputs": [],
   "source": [
    "loan = pd.DataFrame.from_dict(loanModel(V0, mu, sigma, gamma, lambda1,\n",
    "                       T, paths, L0, r0, lambda2, delta, eps), orient = 'index')\n",
    "loan.columns = ['Values']\n",
    "loan"
   ]
  },
  {
   "cell_type": "markdown",
   "metadata": {
    "collapsed": true
   },
   "source": [
    "**Build visualizations for different parameters**\n",
    "\n",
    "$\\lambda_1$  from 0.05 to 0.4 in increments of 0.05\n",
    "\n",
    "$\\lambda_2$ from 0.0 to 0.8 in increments of 0.1\n",
    "\n",
    "T from 3 to 8 in increments of 1"
   ]
  },
  {
   "cell_type": "code",
   "execution_count": null,
   "metadata": {
    "collapsed": true
   },
   "outputs": [],
   "source": [
    "l1 = np.arange(0.05, 0.41, 0.05)\n",
    "l2 = np.arange(0, 0.8, 0.1)\n",
    "Time = np.arange(3, 9, 1)"
   ]
  },
  {
   "cell_type": "markdown",
   "metadata": {},
   "source": [
    "**Default Option Value**"
   ]
  },
  {
   "cell_type": "code",
   "execution_count": null,
   "metadata": {
    "collapsed": true
   },
   "outputs": [],
   "source": [
    "lam2 = 0.4\n",
    "optionValue_l1 = []\n",
    "for lam1 in  l1:     \n",
    "        for T in Time: \n",
    "            optionValue_l1.append(loanModel(V0, mu, sigma, gamma, lam1,\n",
    "                       T, paths, L0, r0, lam2, delta, eps)['Option Value'])\n",
    "optionValue_l1 = np.array(optionValue_l1).reshape((len(l1), len(Time)))"
   ]
  },
  {
   "cell_type": "code",
   "execution_count": null,
   "metadata": {
    "collapsed": true
   },
   "outputs": [],
   "source": [
    "lam1 = 0.2\n",
    "optionValue_l2 = []\n",
    "for lam2 in  l2:     \n",
    "        for T in Time: \n",
    "            optionValue_l2.append(loanModel(V0, mu, sigma, gamma, lam1,\n",
    "                       T, paths, L0, r0, lam2, delta, eps)['Option Value'])\n",
    "optionValue_l2 = np.array(optionValue_l2).reshape((len(l2), len(Time)))"
   ]
  },
  {
   "cell_type": "code",
   "execution_count": null,
   "metadata": {},
   "outputs": [],
   "source": [
    "plt.figure(figsize=(10, 7))\n",
    "for i in range(len(optionValue_l1)):\n",
    "    plt.plot(Time, optionValue_l1[i],  linestyle='--', \n",
    "             marker='o', label = '$\\lambda1 = $' + str(l1[i]))\n",
    "\n",
    "plt.legend()\n",
    "plt.xlabel('T')\n",
    "plt.ylabel('Default Option Value ($)')\n",
    "plt.title('Default Option Value with Different $\\lambda_1$')\n",
    "plt.show()"
   ]
  },
  {
   "cell_type": "code",
   "execution_count": null,
   "metadata": {},
   "outputs": [],
   "source": [
    "plt.figure(figsize=(10, 7))\n",
    "for i in range(len(optionValue_l2)):\n",
    "    plt.plot(Time, optionValue_l2[i],  linestyle='--', \n",
    "             marker='o', label = '$\\lambda2 = $' + str(l2[i]))\n",
    "\n",
    "plt.legend()\n",
    "plt.xlabel('T')\n",
    "plt.ylabel('Default Option Value ($)')\n",
    "plt.title('Default Option Value with Different $\\lambda_2$')\n",
    "plt.show()"
   ]
  },
  {
   "cell_type": "markdown",
   "metadata": {},
   "source": [
    "**Default Intensity**"
   ]
  },
  {
   "cell_type": "code",
   "execution_count": null,
   "metadata": {
    "collapsed": true
   },
   "outputs": [],
   "source": [
    "lam2 = 0.4\n",
    "defaultIntensity_l1 = []\n",
    "for lam1 in  l1:     \n",
    "        for T in Time: \n",
    "            defaultIntensity_l1.append(loanModel(V0, mu, sigma, gamma, lam1,\n",
    "                       T, paths, L0, r0, lam2, delta, eps)['Default Intensity'])\n",
    "defaultIntensity_l1 = np.array(defaultIntensity_l1).reshape((len(l1), len(Time)))"
   ]
  },
  {
   "cell_type": "code",
   "execution_count": null,
   "metadata": {
    "collapsed": true
   },
   "outputs": [],
   "source": [
    "lam1 = 0.2\n",
    "defaultIntensity_l2 = []\n",
    "for lam2 in  l2:     \n",
    "        for T in Time: \n",
    "            defaultIntensity_l2.append(loanModel(V0, mu, sigma, gamma, lam1,\n",
    "                       T, paths, L0, r0, lam2, delta, eps)['Default Intensity'])\n",
    "defaultIntensity_l2 = np.array(defaultIntensity_l2).reshape((len(l2), len(Time)))"
   ]
  },
  {
   "cell_type": "code",
   "execution_count": null,
   "metadata": {},
   "outputs": [],
   "source": [
    "plt.figure(figsize=(10, 7))\n",
    "for i in range(len(defaultIntensity_l1)):\n",
    "    plt.plot(Time, defaultIntensity_l1[i],  linestyle='--', \n",
    "             marker='o', label = '$\\lambda1 = $' + str(l1[i]))\n",
    "\n",
    "plt.legend()\n",
    "plt.xlabel('T')\n",
    "plt.ylabel('Default Intensity')\n",
    "plt.title('Default Intensity with Different $\\lambda_1$')\n",
    "plt.show()"
   ]
  },
  {
   "cell_type": "code",
   "execution_count": null,
   "metadata": {},
   "outputs": [],
   "source": [
    "plt.figure(figsize=(10, 7))\n",
    "for i in range(len(defaultIntensity_l2)):\n",
    "    plt.plot(Time, defaultIntensity_l2[i],  linestyle='--', \n",
    "             marker='o', label = '$\\lambda2 = $' + str(l2[i]))\n",
    "\n",
    "plt.legend()\n",
    "plt.xlabel('T')\n",
    "plt.ylabel('Default Intensity ($)')\n",
    "plt.title('Default Intensity with Different $\\lambda_2$')\n",
    "plt.show()"
   ]
  },
  {
   "cell_type": "markdown",
   "metadata": {},
   "source": [
    "**Expected Stopping Time**"
   ]
  },
  {
   "cell_type": "code",
   "execution_count": null,
   "metadata": {
    "collapsed": true
   },
   "outputs": [],
   "source": [
    "lam2 = 0.4\n",
    "expectedStopTime_l1 = []\n",
    "for lam1 in  l1:     \n",
    "        for T in Time: \n",
    "            expectedStopTime_l1.append(loanModel(V0, mu, sigma, gamma, lam1,\n",
    "                       T, paths, L0, r0, lam2, delta, eps)['Expected Stop Time'])\n",
    "expectedStopTime_l1 = np.array(expectedStopTime_l1).reshape((len(l1), len(Time)))"
   ]
  },
  {
   "cell_type": "code",
   "execution_count": null,
   "metadata": {
    "collapsed": true
   },
   "outputs": [],
   "source": [
    "lam1 = 0.2\n",
    "expectedStopTime_l2 = []\n",
    "for lam2 in  l2:     \n",
    "        for T in Time: \n",
    "            expectedStopTime_l2.append(loanModel(V0, mu, sigma, gamma, lam1,\n",
    "                       T, paths, L0, r0, lam2, delta, eps)['Expected Stop Time'])\n",
    "expectedStopTime_l2 = np.array(expectedStopTime_l2).reshape((len(l2), len(Time)))"
   ]
  },
  {
   "cell_type": "code",
   "execution_count": null,
   "metadata": {},
   "outputs": [],
   "source": [
    "plt.figure(figsize=(10, 7))\n",
    "for i in range(len(expectedStopTime_l1)):\n",
    "    plt.plot(Time, expectedStopTime_l1[i],  linestyle='--', \n",
    "             marker='o', label = '$\\lambda1 = $' + str(l1[i]))\n",
    "\n",
    "plt.legend()\n",
    "plt.xlabel('T')\n",
    "plt.ylabel('Expected Stopping Time ($\\tau$)')\n",
    "plt.title('Expected Stopping Time with Different $\\lambda_1$')\n",
    "plt.show()"
   ]
  },
  {
   "cell_type": "code",
   "execution_count": null,
   "metadata": {},
   "outputs": [],
   "source": [
    "plt.figure(figsize=(10, 7))\n",
    "for i in range(len(expectedStopTime_l2)):\n",
    "    plt.plot(Time, expectedStopTime_l2[i],  linestyle='--', \n",
    "             marker='o', label = '$\\lambda2 = $' + str(l2[i]))\n",
    "\n",
    "plt.legend()\n",
    "plt.xlabel('T')\n",
    "plt.ylabel('Expected Stopping Time ($\\tau$)')\n",
    "plt.title('Expected Stopping Time with Different $\\lambda_2$')\n",
    "plt.show()"
   ]
  }
 ],
 "metadata": {
  "kernelspec": {
   "display_name": "Python 3",
   "language": "python",
   "name": "python3"
  },
  "language_info": {
   "codemirror_mode": {
    "name": "ipython",
    "version": 3
   },
   "file_extension": ".py",
   "mimetype": "text/x-python",
   "name": "python",
   "nbconvert_exporter": "python",
   "pygments_lexer": "ipython3",
   "version": "3.6.3"
  }
 },
 "nbformat": 4,
 "nbformat_minor": 2
}
